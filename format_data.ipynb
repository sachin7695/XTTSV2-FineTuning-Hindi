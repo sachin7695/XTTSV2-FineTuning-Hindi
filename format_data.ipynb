{
 "cells": [
  {
   "cell_type": "code",
   "execution_count": 1,
   "metadata": {},
   "outputs": [
    {
     "name": "stderr",
     "output_type": "stream",
     "text": [
      "e:\\ML\\envs\\pytorch\\Lib\\site-packages\\tqdm\\auto.py:21: TqdmWarning: IProgress not found. Please update jupyter and ipywidgets. See https://ipywidgets.readthedocs.io/en/stable/user_install.html\n",
      "  from .autonotebook import tqdm as notebook_tqdm\n"
     ]
    }
   ],
   "source": [
    "import numpy as np\n",
    "import os\n",
    "import shutil\n",
    "from multiprocessing import Pool\n",
    "\n",
    "import librosa\n",
    "# !pip install pandas\n",
    "import pandas as pd\n",
    "import soundfile as sf\n",
    "\n",
    "from sklearn.model_selection import train_test_split\n",
    "from tqdm.auto import tqdm\n",
    "\n",
    "language  = 'Hindi'\n",
    "lang = 'hi'"
   ]
  },
  {
   "cell_type": "code",
   "execution_count": 2,
   "metadata": {},
   "outputs": [],
   "source": [
    "# Keeping it in  LJspeech format\n",
    "data_dir = f\"E:\\\\ML\\\\ml_projects\\\\project_folder\\\\tts_datadatasets\\\\indictts\\\\{lang}\" # update the path\n",
    "data_dir_new = f\"E:\\\\ML\\\\ml_projects\\\\project_folder\\\\tts_datasets\\\\indictts\\\\{lang}\" # update the path"
   ]
  },
  {
   "cell_type": "code",
   "execution_count": 36,
   "metadata": {},
   "outputs": [],
   "source": [
    "# # Define the source directory\n",
    "# source_dir = r\"C:\\\\Users\\\\ASUS\\\\Downloads\\\\hindi_male_mono\\\\hindi_male_mono1\\\\speaker2\\\\wav\"\n",
    "\n",
    "# # Define the destination directory with the language variable\n",
    "# data_dir_new = f\"E:\\\\ML\\\\ml_projects\\\\project_folder\\\\tts_datasets\\\\indictts\\\\{lang}\"\n",
    "\n",
    "# # Construct the full destination path\n",
    "# destination_dir = os.path.join(data_dir_new, \"wavs\")\n",
    "\n",
    "# # Ensure the destination directory does not exist\n",
    "# if os.path.exists(destination_dir):\n",
    "#     print(f\"Error: Destination directory {destination_dir} already exists.\")\n",
    "# else:\n",
    "#     try:\n",
    "#         shutil.copytree(source_dir, destination_dir)\n",
    "#         print(f\"Directory copied successfully from {source_dir} to {destination_dir}.\")\n",
    "#     except Exception as e:\n",
    "#         print(f\"An error occurred: {e}\")"
   ]
  },
  {
   "cell_type": "code",
   "execution_count": 3,
   "metadata": {},
   "outputs": [],
   "source": [
    "source_dir = r\"C:\\Users\\ASUS\\Downloads\\hindi_female_mono\\IndicTTS_Phase3_Hindi_fem_Speaker2_mono\\speaker2\\wav\"\n",
    "destination_folder = r\"E:\\ML\\ml_projects\\project_folder\\tts_datasets\\indictts\\hi\\wavs\"\n",
    "try:\n",
    "    shutil.copytree(source_dir, destination_folder, dirs_exist_ok=True)\n",
    "except:\n",
    "    print(\"Error in copying files\")"
   ]
  },
  {
   "cell_type": "code",
   "execution_count": 9,
   "metadata": {},
   "outputs": [
    {
     "name": "stdout",
     "output_type": "stream",
     "text": [
      "(595, 3)\n"
     ]
    },
    {
     "data": {
      "text/html": [
       "<div>\n",
       "<style scoped>\n",
       "    .dataframe tbody tr th:only-of-type {\n",
       "        vertical-align: middle;\n",
       "    }\n",
       "\n",
       "    .dataframe tbody tr th {\n",
       "        vertical-align: top;\n",
       "    }\n",
       "\n",
       "    .dataframe thead th {\n",
       "        text-align: right;\n",
       "    }\n",
       "</style>\n",
       "<table border=\"1\" class=\"dataframe\">\n",
       "  <thead>\n",
       "    <tr style=\"text-align: right;\">\n",
       "      <th></th>\n",
       "      <th>0</th>\n",
       "      <th>1</th>\n",
       "      <th>2</th>\n",
       "    </tr>\n",
       "  </thead>\n",
       "  <tbody>\n",
       "    <tr>\n",
       "      <th>0</th>\n",
       "      <td>train_hindimale_00649</td>\n",
       "      <td>हो सकता है, एक रात, गुप्त सूचना के आधार पर, अर...</td>\n",
       "      <td>हो सकता है, एक रात, गुप्त सूचना के आधार पर, अर...</td>\n",
       "    </tr>\n",
       "    <tr>\n",
       "      <th>1</th>\n",
       "      <td>train_hindimale_00650</td>\n",
       "      <td>यह भी विडम्बना है, कि क्राँतिकारी इस इलाके के ...</td>\n",
       "      <td>यह भी विडम्बना है, कि क्राँतिकारी इस इलाके के ...</td>\n",
       "    </tr>\n",
       "    <tr>\n",
       "      <th>2</th>\n",
       "      <td>train_hindimale_00651</td>\n",
       "      <td>अजीब दिखते हुए, उस बुढ्ढे, और उसकी बीवी को मार...</td>\n",
       "      <td>अजीब दिखते हुए, उस बुढ्ढे, और उसकी बीवी को मार...</td>\n",
       "    </tr>\n",
       "    <tr>\n",
       "      <th>3</th>\n",
       "      <td>train_hindimale_00652</td>\n",
       "      <td>लेकिन ऐसे इलाकों की संख्या बढ़ रही है, मानो आशं...</td>\n",
       "      <td>लेकिन ऐसे इलाकों की संख्या बढ़ रही है, मानो आशं...</td>\n",
       "    </tr>\n",
       "    <tr>\n",
       "      <th>4</th>\n",
       "      <td>train_hindimale_00653</td>\n",
       "      <td>अच्छी पुस्तकें छापना, अलग तरह की पुस्तकें छापन...</td>\n",
       "      <td>अच्छी पुस्तकें छापना, अलग तरह की पुस्तकें छापन...</td>\n",
       "    </tr>\n",
       "  </tbody>\n",
       "</table>\n",
       "</div>"
      ],
      "text/plain": [
       "                       0                                                  1  \\\n",
       "0  train_hindimale_00649  हो सकता है, एक रात, गुप्त सूचना के आधार पर, अर...   \n",
       "1  train_hindimale_00650  यह भी विडम्बना है, कि क्राँतिकारी इस इलाके के ...   \n",
       "2  train_hindimale_00651  अजीब दिखते हुए, उस बुढ्ढे, और उसकी बीवी को मार...   \n",
       "3  train_hindimale_00652  लेकिन ऐसे इलाकों की संख्या बढ़ रही है, मानो आशं...   \n",
       "4  train_hindimale_00653  अच्छी पुस्तकें छापना, अलग तरह की पुस्तकें छापन...   \n",
       "\n",
       "                                                   2  \n",
       "0  हो सकता है, एक रात, गुप्त सूचना के आधार पर, अर...  \n",
       "1  यह भी विडम्बना है, कि क्राँतिकारी इस इलाके के ...  \n",
       "2  अजीब दिखते हुए, उस बुढ्ढे, और उसकी बीवी को मार...  \n",
       "3  लेकिन ऐसे इलाकों की संख्या बढ़ रही है, मानो आशं...  \n",
       "4  अच्छी पुस्तकें छापना, अलग तरह की पुस्तकें छापन...  "
      ]
     },
     "execution_count": 9,
     "metadata": {},
     "output_type": "execute_result"
    }
   ],
   "source": [
    "metadata_male_fp = r\"E:\\ML\\ml_projects\\project_folder\\tts_datasets\\indictts\\hi\\male\\mono\\txt.done.data\"\n",
    "metadata_male = pd.read_csv(metadata_male_fp, sep='\"', usecols=[0,1], header=None)\n",
    "# Remove leading and trailing '(' and strip whitespace\n",
    "metadata_male[0] = metadata_male[0].str.strip().str.lstrip('(').str.rstrip(')').str.strip()\n",
    "metadata_male[1] = metadata_male[1].str.strip()\n",
    "metadata_male[2] = metadata_male[1]\n",
    "print(metadata_male.shape)\n",
    "metadata_male.head()"
   ]
  },
  {
   "cell_type": "code",
   "execution_count": null,
   "metadata": {},
   "outputs": [],
   "source": []
  },
  {
   "cell_type": "code",
   "execution_count": 10,
   "metadata": {},
   "outputs": [
    {
     "name": "stdout",
     "output_type": "stream",
     "text": [
      "(942, 3)\n"
     ]
    },
    {
     "data": {
      "text/html": [
       "<div>\n",
       "<style scoped>\n",
       "    .dataframe tbody tr th:only-of-type {\n",
       "        vertical-align: middle;\n",
       "    }\n",
       "\n",
       "    .dataframe tbody tr th {\n",
       "        vertical-align: top;\n",
       "    }\n",
       "\n",
       "    .dataframe thead th {\n",
       "        text-align: right;\n",
       "    }\n",
       "</style>\n",
       "<table border=\"1\" class=\"dataframe\">\n",
       "  <thead>\n",
       "    <tr style=\"text-align: right;\">\n",
       "      <th></th>\n",
       "      <th>0</th>\n",
       "      <th>1</th>\n",
       "      <th>2</th>\n",
       "    </tr>\n",
       "  </thead>\n",
       "  <tbody>\n",
       "    <tr>\n",
       "      <th>0</th>\n",
       "      <td>train_hindifemale_01856</td>\n",
       "      <td>थोड़ा बहुत और अन मना पत्र व्यवहार हुआ, परिणाम व...</td>\n",
       "      <td>थोड़ा बहुत और अन मना पत्र व्यवहार हुआ, परिणाम व...</td>\n",
       "    </tr>\n",
       "    <tr>\n",
       "      <th>1</th>\n",
       "      <td>train_hindifemale_01857</td>\n",
       "      <td>स्वयं मेरा मन किया, कि साड़ी पहनूँ तो लाल बंधेज...</td>\n",
       "      <td>स्वयं मेरा मन किया, कि साड़ी पहनूँ तो लाल बंधेज...</td>\n",
       "    </tr>\n",
       "    <tr>\n",
       "      <th>2</th>\n",
       "      <td>train_hindifemale_01858</td>\n",
       "      <td>कागज़ों पर हस्ताक्षर करने की अंतिम औपचारिकता पू...</td>\n",
       "      <td>कागज़ों पर हस्ताक्षर करने की अंतिम औपचारिकता पू...</td>\n",
       "    </tr>\n",
       "    <tr>\n",
       "      <th>3</th>\n",
       "      <td>train_hindifemale_01859</td>\n",
       "      <td>वह इन्डियन एयरलाईन्स के इन्क्वायरी बूथ की ओर ब...</td>\n",
       "      <td>वह इन्डियन एयरलाईन्स के इन्क्वायरी बूथ की ओर ब...</td>\n",
       "    </tr>\n",
       "    <tr>\n",
       "      <th>4</th>\n",
       "      <td>train_hindifemale_01860</td>\n",
       "      <td>बहुत अधीर हो रहा था, मैं जाकर पास के स्टॉल से,...</td>\n",
       "      <td>बहुत अधीर हो रहा था, मैं जाकर पास के स्टॉल से,...</td>\n",
       "    </tr>\n",
       "  </tbody>\n",
       "</table>\n",
       "</div>"
      ],
      "text/plain": [
       "                         0                                                  1  \\\n",
       "0  train_hindifemale_01856  थोड़ा बहुत और अन मना पत्र व्यवहार हुआ, परिणाम व...   \n",
       "1  train_hindifemale_01857  स्वयं मेरा मन किया, कि साड़ी पहनूँ तो लाल बंधेज...   \n",
       "2  train_hindifemale_01858  कागज़ों पर हस्ताक्षर करने की अंतिम औपचारिकता पू...   \n",
       "3  train_hindifemale_01859  वह इन्डियन एयरलाईन्स के इन्क्वायरी बूथ की ओर ब...   \n",
       "4  train_hindifemale_01860  बहुत अधीर हो रहा था, मैं जाकर पास के स्टॉल से,...   \n",
       "\n",
       "                                                   2  \n",
       "0  थोड़ा बहुत और अन मना पत्र व्यवहार हुआ, परिणाम व...  \n",
       "1  स्वयं मेरा मन किया, कि साड़ी पहनूँ तो लाल बंधेज...  \n",
       "2  कागज़ों पर हस्ताक्षर करने की अंतिम औपचारिकता पू...  \n",
       "3  वह इन्डियन एयरलाईन्स के इन्क्वायरी बूथ की ओर ब...  \n",
       "4  बहुत अधीर हो रहा था, मैं जाकर पास के स्टॉल से,...  "
      ]
     },
     "execution_count": 10,
     "metadata": {},
     "output_type": "execute_result"
    }
   ],
   "source": [
    "metadata_female_fp = r\"E:\\ML\\ml_projects\\project_folder\\tts_datasets\\indictts\\hi\\female\\mono\\txt.done.data\"\n",
    "metadata_female = pd.read_csv(metadata_female_fp, sep='\"', usecols=[0,1], header=None)\n",
    "metadata_female[0] = metadata_female[0].str.strip().str.lstrip('(').str.rstrip(')').str.strip()\n",
    "metadata_female[1] = metadata_female[1].str.strip()\n",
    "metadata_female[2] = metadata_female[1]\n",
    "print(metadata_female.shape)\n",
    "metadata_female.head()"
   ]
  },
  {
   "cell_type": "markdown",
   "metadata": {},
   "source": []
  },
  {
   "cell_type": "code",
   "execution_count": 11,
   "metadata": {},
   "outputs": [
    {
     "data": {
      "text/html": [
       "<div>\n",
       "<style scoped>\n",
       "    .dataframe tbody tr th:only-of-type {\n",
       "        vertical-align: middle;\n",
       "    }\n",
       "\n",
       "    .dataframe tbody tr th {\n",
       "        vertical-align: top;\n",
       "    }\n",
       "\n",
       "    .dataframe thead th {\n",
       "        text-align: right;\n",
       "    }\n",
       "</style>\n",
       "<table border=\"1\" class=\"dataframe\">\n",
       "  <thead>\n",
       "    <tr style=\"text-align: right;\">\n",
       "      <th></th>\n",
       "      <th>0</th>\n",
       "      <th>1</th>\n",
       "      <th>2</th>\n",
       "    </tr>\n",
       "  </thead>\n",
       "  <tbody>\n",
       "    <tr>\n",
       "      <th>0</th>\n",
       "      <td>train_hindimale_00649</td>\n",
       "      <td>हो सकता है, एक रात, गुप्त सूचना के आधार पर, अर...</td>\n",
       "      <td>हो सकता है, एक रात, गुप्त सूचना के आधार पर, अर...</td>\n",
       "    </tr>\n",
       "    <tr>\n",
       "      <th>1</th>\n",
       "      <td>train_hindimale_00650</td>\n",
       "      <td>यह भी विडम्बना है, कि क्राँतिकारी इस इलाके के ...</td>\n",
       "      <td>यह भी विडम्बना है, कि क्राँतिकारी इस इलाके के ...</td>\n",
       "    </tr>\n",
       "    <tr>\n",
       "      <th>2</th>\n",
       "      <td>train_hindimale_00651</td>\n",
       "      <td>अजीब दिखते हुए, उस बुढ्ढे, और उसकी बीवी को मार...</td>\n",
       "      <td>अजीब दिखते हुए, उस बुढ्ढे, और उसकी बीवी को मार...</td>\n",
       "    </tr>\n",
       "    <tr>\n",
       "      <th>3</th>\n",
       "      <td>train_hindimale_00652</td>\n",
       "      <td>लेकिन ऐसे इलाकों की संख्या बढ़ रही है, मानो आशं...</td>\n",
       "      <td>लेकिन ऐसे इलाकों की संख्या बढ़ रही है, मानो आशं...</td>\n",
       "    </tr>\n",
       "    <tr>\n",
       "      <th>4</th>\n",
       "      <td>train_hindimale_00653</td>\n",
       "      <td>अच्छी पुस्तकें छापना, अलग तरह की पुस्तकें छापन...</td>\n",
       "      <td>अच्छी पुस्तकें छापना, अलग तरह की पुस्तकें छापन...</td>\n",
       "    </tr>\n",
       "    <tr>\n",
       "      <th>...</th>\n",
       "      <td>...</td>\n",
       "      <td>...</td>\n",
       "      <td>...</td>\n",
       "    </tr>\n",
       "    <tr>\n",
       "      <th>1532</th>\n",
       "      <td>train_hindifemale_02793</td>\n",
       "      <td>वो कहते हैं, अर्जुन का चुनाव उनके खेल और टैलें...</td>\n",
       "      <td>वो कहते हैं, अर्जुन का चुनाव उनके खेल और टैलें...</td>\n",
       "    </tr>\n",
       "    <tr>\n",
       "      <th>1533</th>\n",
       "      <td>train_hindifemale_02794</td>\n",
       "      <td>प्रणव के रिकॉर्ड के पहले ही, मुंबई की टीम सेले...</td>\n",
       "      <td>प्रणव के रिकॉर्ड के पहले ही, मुंबई की टीम सेले...</td>\n",
       "    </tr>\n",
       "    <tr>\n",
       "      <th>1534</th>\n",
       "      <td>train_hindifemale_02795</td>\n",
       "      <td>टीम में जो स्टेट वाइज़ खेलता है, वही बाद में ज...</td>\n",
       "      <td>टीम में जो स्टेट वाइज़ खेलता है, वही बाद में ज...</td>\n",
       "    </tr>\n",
       "    <tr>\n",
       "      <th>1535</th>\n",
       "      <td>train_hindifemale_04167</td>\n",
       "      <td>प्रोटीन एमिनो एसिड से बने होते हैं और ये प्राण...</td>\n",
       "      <td>प्रोटीन एमिनो एसिड से बने होते हैं और ये प्राण...</td>\n",
       "    </tr>\n",
       "    <tr>\n",
       "      <th>1536</th>\n",
       "      <td>train_hindifemale_04168</td>\n",
       "      <td>खाद्य पदार्थों में उपस्थित आवश्यक एमिनो एसिड क...</td>\n",
       "      <td>खाद्य पदार्थों में उपस्थित आवश्यक एमिनो एसिड क...</td>\n",
       "    </tr>\n",
       "  </tbody>\n",
       "</table>\n",
       "<p>1537 rows × 3 columns</p>\n",
       "</div>"
      ],
      "text/plain": [
       "                            0  \\\n",
       "0       train_hindimale_00649   \n",
       "1       train_hindimale_00650   \n",
       "2       train_hindimale_00651   \n",
       "3       train_hindimale_00652   \n",
       "4       train_hindimale_00653   \n",
       "...                       ...   \n",
       "1532  train_hindifemale_02793   \n",
       "1533  train_hindifemale_02794   \n",
       "1534  train_hindifemale_02795   \n",
       "1535  train_hindifemale_04167   \n",
       "1536  train_hindifemale_04168   \n",
       "\n",
       "                                                      1  \\\n",
       "0     हो सकता है, एक रात, गुप्त सूचना के आधार पर, अर...   \n",
       "1     यह भी विडम्बना है, कि क्राँतिकारी इस इलाके के ...   \n",
       "2     अजीब दिखते हुए, उस बुढ्ढे, और उसकी बीवी को मार...   \n",
       "3     लेकिन ऐसे इलाकों की संख्या बढ़ रही है, मानो आशं...   \n",
       "4     अच्छी पुस्तकें छापना, अलग तरह की पुस्तकें छापन...   \n",
       "...                                                 ...   \n",
       "1532  वो कहते हैं, अर्जुन का चुनाव उनके खेल और टैलें...   \n",
       "1533  प्रणव के रिकॉर्ड के पहले ही, मुंबई की टीम सेले...   \n",
       "1534  टीम में जो स्टेट वाइज़ खेलता है, वही बाद में ज...   \n",
       "1535  प्रोटीन एमिनो एसिड से बने होते हैं और ये प्राण...   \n",
       "1536  खाद्य पदार्थों में उपस्थित आवश्यक एमिनो एसिड क...   \n",
       "\n",
       "                                                      2  \n",
       "0     हो सकता है, एक रात, गुप्त सूचना के आधार पर, अर...  \n",
       "1     यह भी विडम्बना है, कि क्राँतिकारी इस इलाके के ...  \n",
       "2     अजीब दिखते हुए, उस बुढ्ढे, और उसकी बीवी को मार...  \n",
       "3     लेकिन ऐसे इलाकों की संख्या बढ़ रही है, मानो आशं...  \n",
       "4     अच्छी पुस्तकें छापना, अलग तरह की पुस्तकें छापन...  \n",
       "...                                                 ...  \n",
       "1532  वो कहते हैं, अर्जुन का चुनाव उनके खेल और टैलें...  \n",
       "1533  प्रणव के रिकॉर्ड के पहले ही, मुंबई की टीम सेले...  \n",
       "1534  टीम में जो स्टेट वाइज़ खेलता है, वही बाद में ज...  \n",
       "1535  प्रोटीन एमिनो एसिड से बने होते हैं और ये प्राण...  \n",
       "1536  खाद्य पदार्थों में उपस्थित आवश्यक एमिनो एसिड क...  \n",
       "\n",
       "[1537 rows x 3 columns]"
      ]
     },
     "execution_count": 11,
     "metadata": {},
     "output_type": "execute_result"
    }
   ],
   "source": [
    "metadata = pd.concat([metadata_male, metadata_female]).reset_index(drop=True)\n",
    "metadata"
   ]
  },
  {
   "cell_type": "code",
   "execution_count": 12,
   "metadata": {},
   "outputs": [],
   "source": [
    "metadata.to_csv(f'{data_dir_new}\\metafile.csv', sep='|', index=False, header=False)"
   ]
  },
  {
   "cell_type": "code",
   "execution_count": 8,
   "metadata": {},
   "outputs": [
    {
     "ename": "FileExistsError",
     "evalue": "[WinError 183] Cannot create a file when that file already exists: 'E:\\\\ML\\\\ml_projects\\\\project_folder\\\\tts_datasets\\\\indictts\\\\hi\\\\wavs-20k'",
     "output_type": "error",
     "traceback": [
      "\u001b[1;31m---------------------------------------------------------------------------\u001b[0m",
      "\u001b[1;31mFileExistsError\u001b[0m                           Traceback (most recent call last)",
      "Cell \u001b[1;32mIn[8], line 1\u001b[0m\n\u001b[1;32m----> 1\u001b[0m \u001b[43mos\u001b[49m\u001b[38;5;241;43m.\u001b[39;49m\u001b[43mmakedirs\u001b[49m\u001b[43m(\u001b[49m\u001b[38;5;124;43mf\u001b[39;49m\u001b[38;5;124;43m'\u001b[39;49m\u001b[38;5;132;43;01m{\u001b[39;49;00m\u001b[43mdata_dir_new\u001b[49m\u001b[38;5;132;43;01m}\u001b[39;49;00m\u001b[38;5;124;43m\\\u001b[39;49m\u001b[38;5;124;43mwavs-20k\u001b[39;49m\u001b[38;5;124;43m'\u001b[39;49m\u001b[43m)\u001b[49m\n",
      "File \u001b[1;32m<frozen os>:225\u001b[0m, in \u001b[0;36mmakedirs\u001b[1;34m(name, mode, exist_ok)\u001b[0m\n",
      "\u001b[1;31mFileExistsError\u001b[0m: [WinError 183] Cannot create a file when that file already exists: 'E:\\\\ML\\\\ml_projects\\\\project_folder\\\\tts_datasets\\\\indictts\\\\hi\\\\wavs-20k'"
     ]
    }
   ],
   "source": [
    "os.makedirs(f'{data_dir_new}\\wavs-20k')"
   ]
  },
  {
   "cell_type": "code",
   "execution_count": 45,
   "metadata": {},
   "outputs": [],
   "source": [
    "# Resampling\n",
    "def resample_file(func_args):\n",
    "    fp_src, fp_dst, output_sr = func_args\n",
    "    y, sr = librosa.load(fp_src, sr = output_sr)\n",
    "    sf.write(fp_dst, y, sr)"
   ]
  },
  {
   "cell_type": "code",
   "execution_count": 46,
   "metadata": {},
   "outputs": [
    {
     "name": "stderr",
     "output_type": "stream",
     "text": [
      "100%|██████████| 1537/1537 [00:00<?, ?it/s]\n",
      "100%|██████████| 1537/1537 [00:00<00:00, 767457.77it/s]\n"
     ]
    }
   ],
   "source": [
    "fps_src = [f'{data_dir_new}\\wavs\\{fn}' for fn in tqdm(os.listdir(f'{data_dir_new}\\wavs'))]\n",
    "fps_dst = [f'{data_dir_new}\\wavs-20k\\{fn}' for fn in tqdm(os.listdir(f'{data_dir_new}\\wavs'))]\n",
    "srs = [22050] * len(fps_src)"
   ]
  },
  {
   "cell_type": "code",
   "execution_count": 47,
   "metadata": {},
   "outputs": [
    {
     "name": "stderr",
     "output_type": "stream",
     "text": [
      "100%|██████████| 1537/1537 [00:33<00:00, 45.49it/s]\n"
     ]
    }
   ],
   "source": [
    "audio_files = list(zip(fps_src, fps_dst, srs))\n",
    "for audio_file in tqdm(audio_files):\n",
    "    resample_file(audio_file)\n",
    "     "
   ]
  },
  {
   "cell_type": "code",
   "execution_count": 48,
   "metadata": {},
   "outputs": [
    {
     "name": "stdout",
     "output_type": "stream",
     "text": [
      "(1537, 3)\n"
     ]
    },
    {
     "data": {
      "text/html": [
       "<div>\n",
       "<style scoped>\n",
       "    .dataframe tbody tr th:only-of-type {\n",
       "        vertical-align: middle;\n",
       "    }\n",
       "\n",
       "    .dataframe tbody tr th {\n",
       "        vertical-align: top;\n",
       "    }\n",
       "\n",
       "    .dataframe thead th {\n",
       "        text-align: right;\n",
       "    }\n",
       "</style>\n",
       "<table border=\"1\" class=\"dataframe\">\n",
       "  <thead>\n",
       "    <tr style=\"text-align: right;\">\n",
       "      <th></th>\n",
       "      <th>id</th>\n",
       "      <th>text</th>\n",
       "      <th>speaker</th>\n",
       "    </tr>\n",
       "  </thead>\n",
       "  <tbody>\n",
       "    <tr>\n",
       "      <th>0</th>\n",
       "      <td>train_hindimale_00649</td>\n",
       "      <td>हो सकता है, एक रात, गुप्त सूचना के आधार पर, अर...</td>\n",
       "      <td>male</td>\n",
       "    </tr>\n",
       "    <tr>\n",
       "      <th>1</th>\n",
       "      <td>train_hindimale_00650</td>\n",
       "      <td>यह भी विडम्बना है, कि क्राँतिकारी इस इलाके के ...</td>\n",
       "      <td>male</td>\n",
       "    </tr>\n",
       "    <tr>\n",
       "      <th>2</th>\n",
       "      <td>train_hindimale_00651</td>\n",
       "      <td>अजीब दिखते हुए, उस बुढ्ढे, और उसकी बीवी को मार...</td>\n",
       "      <td>male</td>\n",
       "    </tr>\n",
       "    <tr>\n",
       "      <th>3</th>\n",
       "      <td>train_hindimale_00652</td>\n",
       "      <td>लेकिन ऐसे इलाकों की संख्या बढ़ रही है, मानो आशं...</td>\n",
       "      <td>male</td>\n",
       "    </tr>\n",
       "    <tr>\n",
       "      <th>4</th>\n",
       "      <td>train_hindimale_00653</td>\n",
       "      <td>अच्छी पुस्तकें छापना, अलग तरह की पुस्तकें छापन...</td>\n",
       "      <td>male</td>\n",
       "    </tr>\n",
       "  </tbody>\n",
       "</table>\n",
       "</div>"
      ],
      "text/plain": [
       "                       id                                               text  \\\n",
       "0   train_hindimale_00649  हो सकता है, एक रात, गुप्त सूचना के आधार पर, अर...   \n",
       "1   train_hindimale_00650  यह भी विडम्बना है, कि क्राँतिकारी इस इलाके के ...   \n",
       "2   train_hindimale_00651  अजीब दिखते हुए, उस बुढ्ढे, और उसकी बीवी को मार...   \n",
       "3   train_hindimale_00652  लेकिन ऐसे इलाकों की संख्या बढ़ रही है, मानो आशं...   \n",
       "4   train_hindimale_00653  अच्छी पुस्तकें छापना, अलग तरह की पुस्तकें छापन...   \n",
       "\n",
       "  speaker  \n",
       "0    male  \n",
       "1    male  \n",
       "2    male  \n",
       "3    male  \n",
       "4    male  "
      ]
     },
     "execution_count": 48,
     "metadata": {},
     "output_type": "execute_result"
    }
   ],
   "source": [
    "df = pd.read_csv(r\"E:\\ML\\ml_projects\\project_folder\\tts_datasets\\indictts\\hi\\metadata.csv\", sep='|', names=['id', 'text', 'speaker'])\n",
    "print(df.shape)\n",
    "df.head()"
   ]
  },
  {
   "cell_type": "code",
   "execution_count": 50,
   "metadata": {},
   "outputs": [
    {
     "name": "stdout",
     "output_type": "stream",
     "text": [
      "1506 31\n"
     ]
    }
   ],
   "source": [
    "df_train, df_test = train_test_split(df, test_size=0.02, stratify=df['speaker'], random_state=0)\n",
    "print(len(df_train), len(df_test))"
   ]
  },
  {
   "cell_type": "code",
   "execution_count": 51,
   "metadata": {},
   "outputs": [],
   "source": [
    "df_train.to_csv(f'{data_dir_new}\\metadata_train.csv', sep='|', index=False, header=False)\n",
    "df_test.to_csv(f'{data_dir_new}\\metadata_test.csv', sep='|', index=False, header=False)"
   ]
  },
  {
   "cell_type": "code",
   "execution_count": 52,
   "metadata": {},
   "outputs": [],
   "source": [
    "\"\"\"\n",
    "Filters the training and test sets by speaker gender (male and female).\n",
    "Saves the filtered metadata to separate CSV files for each gender.\n",
    "\"\"\"\n",
    "df_train[df_train['speaker']=='male'].to_csv(f'{data_dir_new}\\metadata_train_male.csv', sep='|', index=False, header=False)\n",
    "df_test[df_test['speaker']=='male'].to_csv(f'{data_dir_new}\\metadata_test_male.csv', sep='|', index=False, header=False)\n",
    "\n",
    "df_train[df_train['speaker']=='female'].to_csv(f'{data_dir_new}\\metadata_train_female.csv', sep='|', index=False, header=False)\n",
    "df_test[df_test['speaker']=='female'].to_csv(f'{data_dir_new}\\metadata_test_female.csv', sep='|', index=False, header=False)"
   ]
  },
  {
   "cell_type": "code",
   "execution_count": null,
   "metadata": {},
   "outputs": [],
   "source": [
    "# Create directories for test audio files\n",
    "# os.makedirs(rf'{data_dir_new}\\wavs-20k-test-male')\n",
    "# os.makedirs(rf'{data_dir_new}\\wavs-20k-test-female')\n",
    "\n",
    "# Copy resampled test audio files to new directories\n",
    "for row_id, row in tqdm(df_test.iterrows(), total=len(df_test)):\n",
    "    src = f'{data_dir_new}\\wavs-20k\\{row[\"id\"]}.wav'\n",
    "    dst = f'{data_dir_new}\\wavs-20k-test-{row[\"speaker\"]}\\{row[\"id\"]}.wav'\n",
    "    shutil.copyfile(src, dst)\n"
   ]
  },
  {
   "cell_type": "code",
   "execution_count": 56,
   "metadata": {},
   "outputs": [
    {
     "name": "stderr",
     "output_type": "stream",
     "text": [
      "100%|██████████| 31/31 [00:00<00:00, 3138.84it/s]"
     ]
    },
    {
     "name": "stdout",
     "output_type": "stream",
     "text": [
      "File not found: E:\\ML\\ml_projects\\project_folder\\tts_datasets\\indictts\\hi\\wavs-20k\\ train_hindifemale_02485.wav\n",
      "File not found: E:\\ML\\ml_projects\\project_folder\\tts_datasets\\indictts\\hi\\wavs-20k\\ train_hindimale_00760.wav\n",
      "File not found: E:\\ML\\ml_projects\\project_folder\\tts_datasets\\indictts\\hi\\wavs-20k\\ train_hindimale_00832.wav\n",
      "File not found: E:\\ML\\ml_projects\\project_folder\\tts_datasets\\indictts\\hi\\wavs-20k\\ train_hindimale_00730.wav\n",
      "File not found: E:\\ML\\ml_projects\\project_folder\\tts_datasets\\indictts\\hi\\wavs-20k\\ train_hindifemale_01926.wav\n",
      "File not found: E:\\ML\\ml_projects\\project_folder\\tts_datasets\\indictts\\hi\\wavs-20k\\ train_hindifemale_02610.wav\n",
      "File not found: E:\\ML\\ml_projects\\project_folder\\tts_datasets\\indictts\\hi\\wavs-20k\\ train_hindifemale_02456.wav\n",
      "File not found: E:\\ML\\ml_projects\\project_folder\\tts_datasets\\indictts\\hi\\wavs-20k\\ train_hindifemale_02660.wav\n",
      "File not found: E:\\ML\\ml_projects\\project_folder\\tts_datasets\\indictts\\hi\\wavs-20k\\ train_hindifemale_01865.wav\n",
      "File not found: E:\\ML\\ml_projects\\project_folder\\tts_datasets\\indictts\\hi\\wavs-20k\\ train_hindimale_01118.wav\n",
      "File not found: E:\\ML\\ml_projects\\project_folder\\tts_datasets\\indictts\\hi\\wavs-20k\\ train_hindifemale_02579.wav\n",
      "File not found: E:\\ML\\ml_projects\\project_folder\\tts_datasets\\indictts\\hi\\wavs-20k\\ train_hindifemale_02215.wav\n",
      "File not found: E:\\ML\\ml_projects\\project_folder\\tts_datasets\\indictts\\hi\\wavs-20k\\ train_hindimale_01133.wav\n",
      "File not found: E:\\ML\\ml_projects\\project_folder\\tts_datasets\\indictts\\hi\\wavs-20k\\ train_hindimale_01182.wav\n",
      "File not found: E:\\ML\\ml_projects\\project_folder\\tts_datasets\\indictts\\hi\\wavs-20k\\ train_hindifemale_02563.wav\n",
      "File not found: E:\\ML\\ml_projects\\project_folder\\tts_datasets\\indictts\\hi\\wavs-20k\\ train_hindimale_01090.wav\n",
      "File not found: E:\\ML\\ml_projects\\project_folder\\tts_datasets\\indictts\\hi\\wavs-20k\\ train_hindifemale_02540.wav\n",
      "File not found: E:\\ML\\ml_projects\\project_folder\\tts_datasets\\indictts\\hi\\wavs-20k\\ train_hindifemale_02328.wav\n",
      "File not found: E:\\ML\\ml_projects\\project_folder\\tts_datasets\\indictts\\hi\\wavs-20k\\ train_hindimale_00794.wav\n",
      "File not found: E:\\ML\\ml_projects\\project_folder\\tts_datasets\\indictts\\hi\\wavs-20k\\ train_hindimale_00845.wav\n",
      "File not found: E:\\ML\\ml_projects\\project_folder\\tts_datasets\\indictts\\hi\\wavs-20k\\ train_hindifemale_02455.wav\n",
      "File not found: E:\\ML\\ml_projects\\project_folder\\tts_datasets\\indictts\\hi\\wavs-20k\\ train_hindimale_00803.wav\n",
      "File not found: E:\\ML\\ml_projects\\project_folder\\tts_datasets\\indictts\\hi\\wavs-20k\\ train_hindifemale_02691.wav\n",
      "File not found: E:\\ML\\ml_projects\\project_folder\\tts_datasets\\indictts\\hi\\wavs-20k\\ train_hindifemale_02619.wav\n",
      "File not found: E:\\ML\\ml_projects\\project_folder\\tts_datasets\\indictts\\hi\\wavs-20k\\ train_hindimale_00893.wav\n",
      "File not found: E:\\ML\\ml_projects\\project_folder\\tts_datasets\\indictts\\hi\\wavs-20k\\ train_hindifemale_02415.wav\n",
      "File not found: E:\\ML\\ml_projects\\project_folder\\tts_datasets\\indictts\\hi\\wavs-20k\\ train_hindifemale_02133.wav\n",
      "File not found: E:\\ML\\ml_projects\\project_folder\\tts_datasets\\indictts\\hi\\wavs-20k\\ train_hindifemale_02170.wav\n",
      "File not found: E:\\ML\\ml_projects\\project_folder\\tts_datasets\\indictts\\hi\\wavs-20k\\ train_hindifemale_02252.wav\n",
      "File not found: E:\\ML\\ml_projects\\project_folder\\tts_datasets\\indictts\\hi\\wavs-20k\\ train_hindimale_01046.wav\n",
      "File not found: E:\\ML\\ml_projects\\project_folder\\tts_datasets\\indictts\\hi\\wavs-20k\\ train_hindifemale_02048.wav\n"
     ]
    },
    {
     "name": "stderr",
     "output_type": "stream",
     "text": [
      "\n"
     ]
    }
   ],
   "source": [
    "# Copy resampled test audio files to new directories\n",
    "for row_id, row in tqdm(df_test.iterrows(), total=len(df_test)):\n",
    "    src = rf'{data_dir_new}\\wavs-20k\\{row[\"id\"]}.wav'\n",
    "    dst = rf'{data_dir_new}\\wavs-20k-test-{row[\"speaker\"]}\\{row[\"id\"]}.wav'\n",
    "    if os.path.exists(src):\n",
    "        shutil.copyfile(src, dst)\n",
    "    else:\n",
    "        print(f'File not found: {src}')"
   ]
  },
  {
   "cell_type": "markdown",
   "metadata": {},
   "source": [
    "COQUI TTS DATA PIPELINE"
   ]
  },
  {
   "cell_type": "code",
   "execution_count": null,
   "metadata": {},
   "outputs": [],
   "source": [
    "# output_path = r\"E:\\ML\\ml_projects\\project_folder\\tts_datasets\\indictts\\hi\"\n",
    "# if not os.path.exists(output_path):\n",
    "#     os.makedirs(output_path)\n",
    "# from TTS.tts.configs.shared_configs import BaseDatasetConfig\n",
    "\n",
    "# def formatter(root_path, metadata_path, **kwargs):\n",
    "#     items = []\n",
    "#     with open(metadata_path, 'r', encoding='utf-8') as f:\n",
    "#         for line in f:\n",
    "#             cols = line.split('|')\n",
    "#             wav_file = os.path.join(root_path, \"wavs-20k\", cols[0])\n",
    "#             text = cols[1]\n",
    "#             speaker_type = cols[2]\n",
    "#             items.append({\"text\":text,\n",
    "#                         \"audio_file\":wav_file,\n",
    "#                         \"speaker_type\":speaker_type,\n",
    "#                         \"root_path\":root_path})\n",
    "\n",
    "\n",
    "# dataset_config = BaseDatasetConfig(\n",
    "#     formatter=formatter,\n",
    "#     meta_file_train=r\"E:\\ML\\ml_projects\\project_folder\\tts_datasets\\indictts\\hi\\metadata.csv\", \n",
    "#     path=r\"E:\\ML\\ml_projects\\project_folder\\tts_datasets\\indictts\\hi\\wavs-20k\"\n",
    "# )\n",
    "\n",
    "# dataset_config"
   ]
  }
 ],
 "metadata": {
  "kernelspec": {
   "display_name": "pytorch",
   "language": "python",
   "name": "python3"
  },
  "language_info": {
   "codemirror_mode": {
    "name": "ipython",
    "version": 3
   },
   "file_extension": ".py",
   "mimetype": "text/x-python",
   "name": "python",
   "nbconvert_exporter": "python",
   "pygments_lexer": "ipython3",
   "version": "3.11.8"
  }
 },
 "nbformat": 4,
 "nbformat_minor": 2
}
